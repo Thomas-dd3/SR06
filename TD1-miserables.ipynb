{
 "cells": [
  {
   "cell_type": "code",
   "execution_count": 1,
   "metadata": {},
   "outputs": [],
   "source": [
    "import pandas as pd\n",
    "# Matplotlib for additional customization\n",
    "from matplotlib import pyplot as plt\n",
    "%matplotlib inline"
   ]
  },
  {
   "cell_type": "code",
   "execution_count": 2,
   "metadata": {},
   "outputs": [],
   "source": [
    "df = pd.read_csv(\"TD cryptanalyse-20200410/Miserables2467217.txt\", header=None)"
   ]
  },
  {
   "cell_type": "code",
   "execution_count": 3,
   "metadata": {},
   "outputs": [
    {
     "data": {
      "text/html": [
       "<div>\n",
       "<style scoped>\n",
       "    .dataframe tbody tr th:only-of-type {\n",
       "        vertical-align: middle;\n",
       "    }\n",
       "\n",
       "    .dataframe tbody tr th {\n",
       "        vertical-align: top;\n",
       "    }\n",
       "\n",
       "    .dataframe thead th {\n",
       "        text-align: right;\n",
       "    }\n",
       "</style>\n",
       "<table border=\"1\" class=\"dataframe\">\n",
       "  <thead>\n",
       "    <tr style=\"text-align: right;\">\n",
       "      <th></th>\n",
       "      <th>0</th>\n",
       "    </tr>\n",
       "  </thead>\n",
       "  <tbody>\n",
       "    <tr>\n",
       "      <td>0</td>\n",
       "      <td>PREMIEREPARTIEFANTINELIVREPREMIERUNJUSTEIMMYRI...</td>\n",
       "    </tr>\n",
       "  </tbody>\n",
       "</table>\n",
       "</div>"
      ],
      "text/plain": [
       "                                                   0\n",
       "0  PREMIEREPARTIEFANTINELIVREPREMIERUNJUSTEIMMYRI..."
      ]
     },
     "execution_count": 3,
     "metadata": {},
     "output_type": "execute_result"
    }
   ],
   "source": [
    "df"
   ]
  },
  {
   "cell_type": "code",
   "execution_count": 4,
   "metadata": {},
   "outputs": [
    {
     "data": {
      "text/plain": [
       "str"
      ]
     },
     "execution_count": 4,
     "metadata": {},
     "output_type": "execute_result"
    }
   ],
   "source": [
    "type(df.iat[0,0])"
   ]
  },
  {
   "cell_type": "code",
   "execution_count": 5,
   "metadata": {},
   "outputs": [],
   "source": [
    "words = df.iat[0,0]"
   ]
  },
  {
   "cell_type": "code",
   "execution_count": null,
   "metadata": {},
   "outputs": [],
   "source": [
    "words"
   ]
  },
  {
   "cell_type": "code",
   "execution_count": 7,
   "metadata": {},
   "outputs": [
    {
     "data": {
      "text/plain": [
       "str"
      ]
     },
     "execution_count": 7,
     "metadata": {},
     "output_type": "execute_result"
    }
   ],
   "source": [
    "type(words)"
   ]
  },
  {
   "cell_type": "code",
   "execution_count": 8,
   "metadata": {},
   "outputs": [
    {
     "data": {
      "text/plain": [
       "'P'"
      ]
     },
     "execution_count": 8,
     "metadata": {},
     "output_type": "execute_result"
    }
   ],
   "source": [
    "words[0]"
   ]
  },
  {
   "cell_type": "code",
   "execution_count": 9,
   "metadata": {},
   "outputs": [],
   "source": [
    "alphabet = \"abcdefghijklmnopqrstuvwxyz\"\n",
    "alphabet = alphabet.upper()\n",
    "tab = {}\n",
    "for l in alphabet:\n",
    "    tab[l] = 0"
   ]
  },
  {
   "cell_type": "code",
   "execution_count": null,
   "metadata": {},
   "outputs": [],
   "source": []
  },
  {
   "cell_type": "code",
   "execution_count": 10,
   "metadata": {},
   "outputs": [
    {
     "name": "stdout",
     "output_type": "stream",
     "text": [
      "{'A': 218051, 'B': 26066, 'C': 77727, 'D': 87037, 'E': 424391, 'F': 27502, 'G': 23266, 'H': 23682, 'I': 184694, 'J': 13152, 'K': 154, 'L': 147918, 'M': 69861, 'N': 166550, 'O': 127232, 'P': 64135, 'Q': 29492, 'R': 157861, 'S': 185749, 'T': 188677, 'U': 157557, 'V': 44460, 'W': 260, 'X': 9852, 'Y': 8095, 'Z': 3796}\n"
     ]
    }
   ],
   "source": [
    "# Calcul du nb d'occurence de chaque lettre\n",
    "for letter in words:\n",
    "    tab[letter] += 1\n",
    "    \n",
    "print(tab)"
   ]
  },
  {
   "cell_type": "code",
   "execution_count": 11,
   "metadata": {},
   "outputs": [],
   "source": [
    "# Calcule en frequence\n",
    "tabF = {}\n",
    "for i in tab:\n",
    "    tabF[i] = tab[i]/len(words)"
   ]
  },
  {
   "cell_type": "code",
   "execution_count": 12,
   "metadata": {},
   "outputs": [
    {
     "data": {
      "text/plain": [
       "2467217"
      ]
     },
     "execution_count": 12,
     "metadata": {},
     "output_type": "execute_result"
    }
   ],
   "source": [
    "a = 0\n",
    "for i in tab:\n",
    "    a += tab[i]\n",
    "a"
   ]
  },
  {
   "cell_type": "code",
   "execution_count": 13,
   "metadata": {},
   "outputs": [
    {
     "data": {
      "image/png": "[encoded data removed]",
      "text/plain": [
       "<Figure size 864x576 with 1 Axes>"
      ]
     },
     "metadata": {
      "needs_background": "light"
     },
     "output_type": "display_data"
    }
   ],
   "source": [
    "plt.figure(figsize=(12,8))\n",
    "plt.bar(range(len(tabF)), list(tabF.values()), align='center')\n",
    "plt.xticks(range(len(tabF)), list(tabF.keys()))\n",
    "plt.show()"
   ]
  },
  {
   "cell_type": "code",
   "execution_count": 14,
   "metadata": {},
   "outputs": [],
   "source": [
    "# Calcul des occurences de 2 lettres successives identiques"
   ]
  },
  {
   "cell_type": "code",
   "execution_count": 15,
   "metadata": {},
   "outputs": [
    {
     "name": "stdout",
     "output_type": "stream",
     "text": [
      "{'MM': 7367, 'LL': 15247, 'DD': 593, 'CC': 1364, 'EE': 17815, 'RR': 5581, 'SS': 16563, 'NN': 5880, 'II': 782, 'TT': 9982, 'FF': 2504, 'PP': 2337, 'AA': 1159, 'UU': 894, 'BB': 61, 'OO': 125, 'GG': 16, 'ZZ': 8, 'VV': 1, 'YY': 2, 'QQ': 2, 'XX': 10, 'JJ': 1}\n"
     ]
    }
   ],
   "source": [
    "tab2id = {}\n",
    "# Calcul des occurences\n",
    "for i in range(0, len(words)-2):\n",
    "    if (words[i] == words[i+1]):\n",
    "        di = words[i] + words[i+1]\n",
    "        if di in tab2id:\n",
    "            tab2id[di] += 1\n",
    "        else:\n",
    "            tab2id[di] = 1\n",
    "\n",
    "print(tab2id)\n",
    "\n",
    "# Calcul des fréquences\n",
    "total = 0\n",
    "for i in tab2id:\n",
    "    total += tab2id[i]\n",
    "\n",
    "tab2idF = {}\n",
    "for i in tab2id:\n",
    "    tab2idF[i] = tab2id[i]/total"
   ]
  },
  {
   "cell_type": "code",
   "execution_count": 16,
   "metadata": {},
   "outputs": [
    {
     "data": {
      "image/png": "[encoded data removed]",
      "text/plain": [
       "<Figure size 864x576 with 1 Axes>"
      ]
     },
     "metadata": {
      "needs_background": "light"
     },
     "output_type": "display_data"
    }
   ],
   "source": [
    "plt.figure(figsize=(12,8))\n",
    "plt.bar(range(len(tab2idF)), list(tab2idF.values()), align='center')\n",
    "plt.xticks(range(len(tab2idF)), list(tab2idF.keys()))\n",
    "plt.show()"
   ]
  },
  {
   "cell_type": "code",
   "execution_count": 17,
   "metadata": {},
   "outputs": [],
   "source": [
    "# Calcul des digrammes"
   ]
  },
  {
   "cell_type": "code",
   "execution_count": 18,
   "metadata": {},
   "outputs": [
    {
     "data": {
      "text/plain": [
       "{'ES': 0.026813217813114052,\n",
       " 'LE': 0.02243297708834573,\n",
       " 'RE': 0.020295345036672914,\n",
       " 'EN': 0.019716555015855928,\n",
       " 'AI': 0.01868421735267605,\n",
       " 'DE': 0.01866273565022276,\n",
       " 'ET': 0.018002477286139518,\n",
       " 'IT': 0.016074393162171453,\n",
       " 'TE': 0.016058180556546325,\n",
       " 'NT': 0.015379683011134817,\n",
       " 'OU': 0.014432461527486852,\n",
       " 'ER': 0.01441097982503356,\n",
       " 'LA': 0.014228993326891525,\n",
       " 'ON': 0.013743020473278383,\n",
       " 'EL': 0.013609266476871097}"
      ]
     },
     "execution_count": 18,
     "metadata": {},
     "output_type": "execute_result"
    }
   ],
   "source": [
    "tabDi = {}\n",
    "# Calcul des occurences\n",
    "for i in range(0, len(words)-1):\n",
    "    di = words[i] + words[i+1]\n",
    "    if di in tabDi:\n",
    "        tabDi[di] += 1\n",
    "    else:\n",
    "        tabDi[di] = 1\n",
    "\n",
    "# Calcul des fréquences\n",
    "total = 0\n",
    "for i in tabDi:\n",
    "    total += tabDi[i]\n",
    "\n",
    "tabDiF = {}\n",
    "for i in tabDi:\n",
    "    tabDiF[i] = tabDi[i]/total\n",
    "    \n",
    "listDi = sorted(tabDiF.items(), key=lambda t: t[1], reverse=True)\n",
    "\n",
    "tabDiFsorted = {}\n",
    "for i in range(0,15):\n",
    "    tabDiFsorted[listDi[i][0]] = listDi[i][1]\n",
    "    \n",
    "tabDiFsorted"
   ]
  },
  {
   "cell_type": "code",
   "execution_count": 19,
   "metadata": {},
   "outputs": [
    {
     "data": {
      "image/png": "[encoded data removed]",
      "text/plain": [
       "<Figure size 864x576 with 1 Axes>"
      ]
     },
     "metadata": {
      "needs_background": "light"
     },
     "output_type": "display_data"
    }
   ],
   "source": [
    "plt.figure(figsize=(12,8))\n",
    "plt.bar(range(len(tabDiFsorted)), list(tabDiFsorted.values()), align='center')\n",
    "plt.xticks(range(len(tabDiFsorted)), list(tabDiFsorted.keys()))\n",
    "plt.show()"
   ]
  },
  {
   "cell_type": "code",
   "execution_count": null,
   "metadata": {},
   "outputs": [],
   "source": []
  },
  {
   "cell_type": "code",
   "execution_count": 20,
   "metadata": {},
   "outputs": [],
   "source": [
    "# Calcul des trigrammes"
   ]
  },
  {
   "cell_type": "code",
   "execution_count": 21,
   "metadata": {},
   "outputs": [
    {
     "data": {
      "text/plain": [
       "{'AIT': 0.009699600561767012,\n",
       " 'ENT': 0.007767462503267855,\n",
       " 'QUE': 0.0061389056081452165,\n",
       " 'LES': 0.005968673180083616,\n",
       " 'EDE': 0.004839464740608338,\n",
       " 'LLE': 0.004778262129567144,\n",
       " 'ELA': 0.004458063038689373,\n",
       " 'DES': 0.00410705998463855,\n",
       " 'ANT': 0.004095305840796201,\n",
       " 'RES': 0.003920614944380607,\n",
       " 'ERE': 0.0038975119720008186,\n",
       " 'TRE': 0.003855764495595236,\n",
       " 'TAI': 0.0037588941377220872,\n",
       " 'ETA': 0.00373822305717175,\n",
       " 'EST': 0.003647837744177139}"
      ]
     },
     "execution_count": 21,
     "metadata": {},
     "output_type": "execute_result"
    }
   ],
   "source": [
    "tabTri = {}\n",
    "# Calcul des occurences\n",
    "for i in range(0, len(words)-2):\n",
    "    tri = words[i] + words[i+1] + words[i+2]\n",
    "    if tri in tabTri:\n",
    "        tabTri[tri] += 1\n",
    "    else:\n",
    "        tabTri[tri] = 1\n",
    "\n",
    "# Calcul des fréquences\n",
    "total = 0\n",
    "for i in tabTri:\n",
    "    total += tabTri[i]\n",
    "\n",
    "tabTriF = {}\n",
    "for i in tabTri:\n",
    "    tabTriF[i] = tabTri[i]/total\n",
    "    \n",
    "listTri = sorted(tabTriF.items(), key=lambda t: t[1], reverse=True)\n",
    "\n",
    "tabTriFsorted = {}\n",
    "for i in range(0,15):\n",
    "    tabTriFsorted[listTri[i][0]] = listTri[i][1]\n",
    "    \n",
    "tabTriFsorted"
   ]
  },
  {
   "cell_type": "code",
   "execution_count": 22,
   "metadata": {},
   "outputs": [
    {
     "data": {
      "image/png": "[encoded data removed]",
      "text/plain": [
       "<Figure size 864x576 with 1 Axes>"
      ]
     },
     "metadata": {
      "needs_background": "light"
     },
     "output_type": "display_data"
    }
   ],
   "source": [
    "plt.figure(figsize=(12,8))\n",
    "plt.bar(range(len(tabTriFsorted)), list(tabTriFsorted.values()), align='center')\n",
    "plt.xticks(range(len(tabTriFsorted)), list(tabTriFsorted.keys()))\n",
    "plt.show()"
   ]
  },
  {
   "cell_type": "code",
   "execution_count": null,
   "metadata": {},
   "outputs": [],
   "source": []
  },
  {
   "cell_type": "code",
   "execution_count": 23,
   "metadata": {},
   "outputs": [],
   "source": [
    "# Calcul des quadrigrammes"
   ]
  },
  {
   "cell_type": "code",
   "execution_count": 24,
   "metadata": {},
   "outputs": [
    {
     "data": {
      "text/plain": [
       "{'TAIT': 0.0027249358993585476,\n",
       " 'ETAI': 0.0027241252684201693,\n",
       " 'MENT': 0.002522278164763981,\n",
       " 'ELLE': 0.0024671552609542586,\n",
       " 'DANS': 0.0023488031439510312,\n",
       " 'OMME': 0.00222761381866348,\n",
       " 'VAIT': 0.002159926135308895,\n",
       " 'AVAI': 0.0021258796358970076,\n",
       " 'EMEN': 0.001966185341036489,\n",
       " 'QUEL': 0.0019649693946289216,\n",
       " 'DELA': 0.0018989029731510928,\n",
       " 'ETTE': 0.0018713415212462316,\n",
       " 'ILLE': 0.001809328254460294,\n",
       " 'IENT': 0.0016026173651738358,\n",
       " 'TOUT': 0.0014769695697252041}"
      ]
     },
     "execution_count": 24,
     "metadata": {},
     "output_type": "execute_result"
    }
   ],
   "source": [
    "tabTri = {}\n",
    "# Calcul des occurences\n",
    "for i in range(0, len(words)-3):\n",
    "    tri = words[i] + words[i+1] + words[i+2] + words[i+3]\n",
    "    if tri in tabTri:\n",
    "        tabTri[tri] += 1\n",
    "    else:\n",
    "        tabTri[tri] = 1\n",
    "\n",
    "# Calcul des fréquences\n",
    "total = 0\n",
    "for i in tabTri:\n",
    "    total += tabTri[i]\n",
    "\n",
    "tabTriF = {}\n",
    "for i in tabTri:\n",
    "    tabTriF[i] = tabTri[i]/total\n",
    "    \n",
    "listTri = sorted(tabTriF.items(), key=lambda t: t[1], reverse=True)\n",
    "\n",
    "tabTriFsorted = {}\n",
    "for i in range(0,15):\n",
    "    tabTriFsorted[listTri[i][0]] = listTri[i][1]\n",
    "    \n",
    "tabTriFsorted"
   ]
  },
  {
   "cell_type": "code",
   "execution_count": 25,
   "metadata": {},
   "outputs": [
    {
     "data": {
      "image/png": "[encoded data removed]",
      "text/plain": [
       "<Figure size 864x576 with 1 Axes>"
      ]
     },
     "metadata": {
      "needs_background": "light"
     },
     "output_type": "display_data"
    }
   ],
   "source": [
    "plt.figure(figsize=(12,8))\n",
    "plt.bar(range(len(tabTriFsorted)), list(tabTriFsorted.values()), align='center')\n",
    "plt.xticks(range(len(tabTriFsorted)), list(tabTriFsorted.keys()))\n",
    "plt.show()"
   ]
  }
 ],
 "metadata": {
  "kernelspec": {
   "display_name": "Python 3",
   "language": "python",
   "name": "python3"
  },
  "language_info": {
   "codemirror_mode": {
    "name": "ipython",
    "version": 3
   },
   "file_extension": ".py",
   "mimetype": "text/x-python",
   "name": "python",
   "nbconvert_exporter": "python",
   "pygments_lexer": "ipython3",
   "version": "3.7.4"
  }
 },
 "nbformat": 4,
 "nbformat_minor": 4
}
