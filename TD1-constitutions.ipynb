{
 "cells": [
  {
   "cell_type": "code",
   "execution_count": 1,
   "metadata": {},
   "outputs": [],
   "source": [
    "import pandas as pd\n",
    "# Matplotlib for additional customization\n",
    "from matplotlib import pyplot as plt\n",
    "%matplotlib inline"
   ]
  },
  {
   "cell_type": "code",
   "execution_count": 2,
   "metadata": {},
   "outputs": [],
   "source": [
    "df = pd.read_csv(\"TD cryptanalyse-20200410/Constitution68728.txt\", header=None)"
   ]
  },
  {
   "cell_type": "code",
   "execution_count": 3,
   "metadata": {},
   "outputs": [
    {
     "data": {
      "text/html": [
       "<div>\n",
       "<style scoped>\n",
       "    .dataframe tbody tr th:only-of-type {\n",
       "        vertical-align: middle;\n",
       "    }\n",
       "\n",
       "    .dataframe tbody tr th {\n",
       "        vertical-align: top;\n",
       "    }\n",
       "\n",
       "    .dataframe thead th {\n",
       "        text-align: right;\n",
       "    }\n",
       "</style>\n",
       "<table border=\"1\" class=\"dataframe\">\n",
       "  <thead>\n",
       "    <tr style=\"text-align: right;\">\n",
       "      <th></th>\n",
       "      <th>0</th>\n",
       "    </tr>\n",
       "  </thead>\n",
       "  <tbody>\n",
       "    <tr>\n",
       "      <td>0</td>\n",
       "      <td>LEPEUPLEFRANCAISPROCLAMESOLENNELLEMENTSONATTAC...</td>\n",
       "    </tr>\n",
       "  </tbody>\n",
       "</table>\n",
       "</div>"
      ],
      "text/plain": [
       "                                                   0\n",
       "0  LEPEUPLEFRANCAISPROCLAMESOLENNELLEMENTSONATTAC..."
      ]
     },
     "execution_count": 3,
     "metadata": {},
     "output_type": "execute_result"
    }
   ],
   "source": [
    "df"
   ]
  },
  {
   "cell_type": "code",
   "execution_count": 4,
   "metadata": {},
   "outputs": [
    {
     "data": {
      "text/plain": [
       "str"
      ]
     },
     "execution_count": 4,
     "metadata": {},
     "output_type": "execute_result"
    }
   ],
   "source": [
    "type(df.iat[0,0])"
   ]
  },
  {
   "cell_type": "code",
   "execution_count": 5,
   "metadata": {},
   "outputs": [],
   "source": [
    "words = df.iat[0,0]"
   ]
  },
  {
   "cell_type": "code",
   "execution_count": null,
   "metadata": {},
   "outputs": [],
   "source": [
    "words"
   ]
  },
  {
   "cell_type": "code",
   "execution_count": 7,
   "metadata": {},
   "outputs": [
    {
     "data": {
      "text/plain": [
       "str"
      ]
     },
     "execution_count": 7,
     "metadata": {},
     "output_type": "execute_result"
    }
   ],
   "source": [
    "type(words)"
   ]
  },
  {
   "cell_type": "code",
   "execution_count": 8,
   "metadata": {},
   "outputs": [
    {
     "data": {
      "text/plain": [
       "'L'"
      ]
     },
     "execution_count": 8,
     "metadata": {},
     "output_type": "execute_result"
    }
   ],
   "source": [
    "words[0]"
   ]
  },
  {
   "cell_type": "code",
   "execution_count": 9,
   "metadata": {},
   "outputs": [],
   "source": [
    "alphabet = \"abcdefghijklmnopqrstuvwxyz\"\n",
    "alphabet = alphabet.upper()\n",
    "tab = {}\n",
    "for l in alphabet:\n",
    "    tab[l] = 0"
   ]
  },
  {
   "cell_type": "code",
   "execution_count": null,
   "metadata": {},
   "outputs": [],
   "source": []
  },
  {
   "cell_type": "code",
   "execution_count": 10,
   "metadata": {},
   "outputs": [
    {
     "name": "stdout",
     "output_type": "stream",
     "text": [
      "{'A': 4752, 'B': 590, 'C': 2362, 'D': 3057, 'E': 12451, 'F': 505, 'G': 582, 'H': 161, 'I': 5328, 'J': 191, 'K': 0, 'L': 4420, 'M': 1699, 'N': 5164, 'O': 4190, 'P': 2265, 'Q': 576, 'R': 4530, 'S': 5817, 'T': 5219, 'U': 3639, 'V': 781, 'W': 1, 'X': 376, 'Y': 59, 'Z': 13}\n"
     ]
    }
   ],
   "source": [
    "# Calcul du nb d'occurence de chaque lettre\n",
    "for letter in words:\n",
    "    tab[letter] += 1\n",
    "    \n",
    "print(tab)"
   ]
  },
  {
   "cell_type": "code",
   "execution_count": 11,
   "metadata": {},
   "outputs": [],
   "source": [
    "# Calcule en frequence\n",
    "tabF = {}\n",
    "for i in tab:\n",
    "    tabF[i] = tab[i]/len(words)"
   ]
  },
  {
   "cell_type": "code",
   "execution_count": 12,
   "metadata": {},
   "outputs": [
    {
     "data": {
      "text/plain": [
       "68728"
      ]
     },
     "execution_count": 12,
     "metadata": {},
     "output_type": "execute_result"
    }
   ],
   "source": [
    "a = 0\n",
    "for i in tab:\n",
    "    a += tab[i]\n",
    "a"
   ]
  },
  {
   "cell_type": "code",
   "execution_count": 13,
   "metadata": {},
   "outputs": [
    {
     "data": {
      "image/png": "[encoded data removed]",
      "text/plain": [
       "<Figure size 864x576 with 1 Axes>"
      ]
     },
     "metadata": {
      "needs_background": "light"
     },
     "output_type": "display_data"
    }
   ],
   "source": [
    "plt.figure(figsize=(12,8))\n",
    "plt.bar(range(len(tabF)), list(tabF.values()), align='center')\n",
    "plt.xticks(range(len(tabF)), list(tabF.keys()))\n",
    "plt.show()"
   ]
  },
  {
   "cell_type": "code",
   "execution_count": 14,
   "metadata": {},
   "outputs": [],
   "source": [
    "# Calcul des occurences de 2 lettres successives identiques"
   ]
  },
  {
   "cell_type": "code",
   "execution_count": 15,
   "metadata": {},
   "outputs": [
    {
     "name": "stdout",
     "output_type": "stream",
     "text": [
      "{'NN': 234, 'LL': 258, 'TT': 79, 'MM': 98, 'EE': 621, 'FF': 35, 'RR': 71, 'SS': 477, 'CC': 52, 'PP': 88, 'AA': 9, 'DD': 14, 'II': 5, 'GG': 1, 'UU': 9, 'OO': 3}\n"
     ]
    }
   ],
   "source": [
    "tab2id = {}\n",
    "# Calcul des occurences\n",
    "for i in range(0, len(words)-2):\n",
    "    if (words[i] == words[i+1]):\n",
    "        di = words[i] + words[i+1]\n",
    "        if di in tab2id:\n",
    "            tab2id[di] += 1\n",
    "        else:\n",
    "            tab2id[di] = 1\n",
    "\n",
    "print(tab2id)\n",
    "\n",
    "# Calcul des fréquences\n",
    "total = 0\n",
    "for i in tab2id:\n",
    "    total += tab2id[i]\n",
    "\n",
    "tab2idF = {}\n",
    "for i in tab2id:\n",
    "    tab2idF[i] = tab2id[i]/total"
   ]
  },
  {
   "cell_type": "code",
   "execution_count": 16,
   "metadata": {},
   "outputs": [
    {
     "data": {
      "image/png": "[encoded data removed]",
      "text/plain": [
       "<Figure size 864x576 with 1 Axes>"
      ]
     },
     "metadata": {
      "needs_background": "light"
     },
     "output_type": "display_data"
    }
   ],
   "source": [
    "plt.figure(figsize=(12,8))\n",
    "plt.bar(range(len(tab2idF)), list(tab2idF.values()), align='center')\n",
    "plt.xticks(range(len(tab2idF)), list(tab2idF.keys()))\n",
    "plt.show()"
   ]
  },
  {
   "cell_type": "code",
   "execution_count": 17,
   "metadata": {},
   "outputs": [],
   "source": [
    "# Calcul des digrammes"
   ]
  },
  {
   "cell_type": "code",
   "execution_count": 18,
   "metadata": {},
   "outputs": [
    {
     "data": {
      "text/plain": [
       "{'ES': 0.03860200503441151,\n",
       " 'LE': 0.029071543934698154,\n",
       " 'DE': 0.02707814978101765,\n",
       " 'ON': 0.024648245958647983,\n",
       " 'RE': 0.023178663407394474,\n",
       " 'EN': 0.0197302370247501,\n",
       " 'TI': 0.018857217687371777,\n",
       " 'EL': 0.018406157696392974,\n",
       " 'TE': 0.017693191904200677,\n",
       " 'NT': 0.016631018377057053,\n",
       " 'SE': 0.014244765521556303,\n",
       " 'IO': 0.013953759075763529,\n",
       " 'LA': 0.013444497795626172,\n",
       " 'ER': 0.013168041672123038,\n",
       " 'ET': 0.012877035226330264}"
      ]
     },
     "execution_count": 18,
     "metadata": {},
     "output_type": "execute_result"
    }
   ],
   "source": [
    "tabDi = {}\n",
    "# Calcul des occurences\n",
    "for i in range(0, len(words)-1):\n",
    "    di = words[i] + words[i+1]\n",
    "    if di in tabDi:\n",
    "        tabDi[di] += 1\n",
    "    else:\n",
    "        tabDi[di] = 1\n",
    "\n",
    "# Calcul des fréquences\n",
    "total = 0\n",
    "for i in tabDi:\n",
    "    total += tabDi[i]\n",
    "\n",
    "tabDiF = {}\n",
    "for i in tabDi:\n",
    "    tabDiF[i] = tabDi[i]/total\n",
    "    \n",
    "listDi = sorted(tabDiF.items(), key=lambda t: t[1], reverse=True)\n",
    "\n",
    "tabDiFsorted = {}\n",
    "for i in range(0,15):\n",
    "    tabDiFsorted[listDi[i][0]] = listDi[i][1]\n",
    "    \n",
    "tabDiFsorted"
   ]
  },
  {
   "cell_type": "code",
   "execution_count": 19,
   "metadata": {},
   "outputs": [
    {
     "data": {
      "image/png": "[encoded data removed]",
      "text/plain": [
       "<Figure size 864x576 with 1 Axes>"
      ]
     },
     "metadata": {
      "needs_background": "light"
     },
     "output_type": "display_data"
    }
   ],
   "source": [
    "plt.figure(figsize=(12,8))\n",
    "plt.bar(range(len(tabDiFsorted)), list(tabDiFsorted.values()), align='center')\n",
    "plt.xticks(range(len(tabDiFsorted)), list(tabDiFsorted.keys()))\n",
    "plt.show()"
   ]
  },
  {
   "cell_type": "code",
   "execution_count": null,
   "metadata": {},
   "outputs": [],
   "source": []
  },
  {
   "cell_type": "code",
   "execution_count": 20,
   "metadata": {},
   "outputs": [],
   "source": [
    "# Calcul des trigrammes"
   ]
  },
  {
   "cell_type": "code",
   "execution_count": 21,
   "metadata": {},
   "outputs": [
    {
     "data": {
      "text/plain": [
       "{'ION': 0.01303727846811978,\n",
       " 'TIO': 0.010796496231411693,\n",
       " 'ENT': 0.01017082326921398,\n",
       " 'LES': 0.009574251375025463,\n",
       " 'DEL': 0.007537176614381748,\n",
       " 'RES': 0.007187963798271396,\n",
       " 'ELA': 0.0064458865640369,\n",
       " 'ONS': 0.0064458865640369,\n",
       " 'ATI': 0.006387684428018508,\n",
       " 'EDE': 0.0060821232139219505,\n",
       " 'DES': 0.005994820009894363,\n",
       " 'QUE': 0.005951168407880569,\n",
       " 'EME': 0.005892966271862177,\n",
       " 'CON': 0.005601955591770218,\n",
       " 'PAR': 0.005441899717719641}"
      ]
     },
     "execution_count": 21,
     "metadata": {},
     "output_type": "execute_result"
    }
   ],
   "source": [
    "tabTri = {}\n",
    "# Calcul des occurences\n",
    "for i in range(0, len(words)-2):\n",
    "    tri = words[i] + words[i+1] + words[i+2]\n",
    "    if tri in tabTri:\n",
    "        tabTri[tri] += 1\n",
    "    else:\n",
    "        tabTri[tri] = 1\n",
    "\n",
    "# Calcul des fréquences\n",
    "total = 0\n",
    "for i in tabTri:\n",
    "    total += tabTri[i]\n",
    "\n",
    "tabTriF = {}\n",
    "for i in tabTri:\n",
    "    tabTriF[i] = tabTri[i]/total\n",
    "    \n",
    "listTri = sorted(tabTriF.items(), key=lambda t: t[1], reverse=True)\n",
    "\n",
    "tabTriFsorted = {}\n",
    "for i in range(0,15):\n",
    "    tabTriFsorted[listTri[i][0]] = listTri[i][1]\n",
    "    \n",
    "tabTriFsorted"
   ]
  },
  {
   "cell_type": "code",
   "execution_count": 22,
   "metadata": {},
   "outputs": [
    {
     "data": {
      "image/png": "[encoded data removed]",
      "text/plain": [
       "<Figure size 864x576 with 1 Axes>"
      ]
     },
     "metadata": {
      "needs_background": "light"
     },
     "output_type": "display_data"
    }
   ],
   "source": [
    "plt.figure(figsize=(12,8))\n",
    "plt.bar(range(len(tabTriFsorted)), list(tabTriFsorted.values()), align='center')\n",
    "plt.xticks(range(len(tabTriFsorted)), list(tabTriFsorted.keys()))\n",
    "plt.show()"
   ]
  },
  {
   "cell_type": "code",
   "execution_count": null,
   "metadata": {},
   "outputs": [],
   "source": []
  },
  {
   "cell_type": "code",
   "execution_count": 23,
   "metadata": {},
   "outputs": [],
   "source": [
    "# Calcul des quadrigrammes"
   ]
  },
  {
   "cell_type": "code",
   "execution_count": 24,
   "metadata": {},
   "outputs": [
    {
     "data": {
      "text/plain": [
       "{'TION': 0.010796653328483084,\n",
       " 'MENT': 0.005063659512550018,\n",
       " 'ATIO': 0.005034558021098581,\n",
       " 'DELA': 0.004743543106584212,\n",
       " 'EMEN': 0.004568934157875591,\n",
       " 'IOND': 0.0035358312113495816,\n",
       " 'IONS': 0.0034048744998181157,\n",
       " 'IQUE': 0.0033612222626409603,\n",
       " 'PARL': 0.0031284103310294654,\n",
       " 'PRES': 0.0030411058566751545,\n",
       " 'CONS': 0.0028082939250636597,\n",
       " 'ESDE': 0.0025463805020007274,\n",
       " 'ONDE': 0.00242997453619498,\n",
       " 'ONNE': 0.002328119316114951,\n",
       " 'ITIO': 0.00224081484176064}"
      ]
     },
     "execution_count": 24,
     "metadata": {},
     "output_type": "execute_result"
    }
   ],
   "source": [
    "tabTri = {}\n",
    "# Calcul des occurences\n",
    "for i in range(0, len(words)-3):\n",
    "    tri = words[i] + words[i+1] + words[i+2] + words[i+3]\n",
    "    if tri in tabTri:\n",
    "        tabTri[tri] += 1\n",
    "    else:\n",
    "        tabTri[tri] = 1\n",
    "\n",
    "# Calcul des fréquences\n",
    "total = 0\n",
    "for i in tabTri:\n",
    "    total += tabTri[i]\n",
    "\n",
    "tabTriF = {}\n",
    "for i in tabTri:\n",
    "    tabTriF[i] = tabTri[i]/total\n",
    "    \n",
    "listTri = sorted(tabTriF.items(), key=lambda t: t[1], reverse=True)\n",
    "\n",
    "tabTriFsorted = {}\n",
    "for i in range(0,15):\n",
    "    tabTriFsorted[listTri[i][0]] = listTri[i][1]\n",
    "    \n",
    "tabTriFsorted"
   ]
  },
  {
   "cell_type": "code",
   "execution_count": 25,
   "metadata": {},
   "outputs": [
    {
     "data": {
      "image/png": "[encoded data removed]",
      "text/plain": [
       "<Figure size 864x576 with 1 Axes>"
      ]
     },
     "metadata": {
      "needs_background": "light"
     },
     "output_type": "display_data"
    }
   ],
   "source": [
    "plt.figure(figsize=(12,8))\n",
    "plt.bar(range(len(tabTriFsorted)), list(tabTriFsorted.values()), align='center')\n",
    "plt.xticks(range(len(tabTriFsorted)), list(tabTriFsorted.keys()))\n",
    "plt.show()"
   ]
  }
 ],
 "metadata": {
  "kernelspec": {
   "display_name": "Python 3",
   "language": "python",
   "name": "python3"
  },
  "language_info": {
   "codemirror_mode": {
    "name": "ipython",
    "version": 3
   },
   "file_extension": ".py",
   "mimetype": "text/x-python",
   "name": "python",
   "nbconvert_exporter": "python",
   "pygments_lexer": "ipython3",
   "version": "3.7.4"
  }
 },
 "nbformat": 4,
 "nbformat_minor": 4
}
